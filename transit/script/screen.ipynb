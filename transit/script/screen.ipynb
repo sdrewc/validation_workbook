{
 "cells": [
  {
   "cell_type": "code",
   "execution_count": 9,
   "metadata": {},
   "outputs": [],
   "source": [
    "from pathlib import Path\n",
    "import geopandas as gpd\n",
    "import pandas as pd\n",
    "import tomli as tomllib\n",
    "from transit import transit_validation_2019_alfaro_filepath\n",
    "from transit_function import read_transit_assignments, read_dbf_and_groupby_sum\n",
    "from bart import process_BART_data, process_BART_county, process_BART_SL\n",
    "from muni import process_muni, read_transit_lines\n",
    "from screen import concat_final_SL\n",
    "from map_data import process_muni_map, process_bart_map\n",
    "from obs import process_obs_data\n",
    "from total_val import process_valTotal_Operator, process_valTotal_Submode, assign_ferry_name, assign_muni_name\n",
    "from simwrapper_table import process_mkd_muni, process_mkd_bart, process_mkd_screenline, process_data"
   ]
  },
  {
   "cell_type": "code",
   "execution_count": null,
   "metadata": {},
   "outputs": [],
   "source": []
  },
  {
   "cell_type": "code",
   "execution_count": 4,
   "metadata": {},
   "outputs": [],
   "source": [
    "\n",
    "with open(\"transit.toml\", \"rb\") as f:\n",
    "    config = tomllib.load(f)\n",
    "\n",
    "model_run_dir = Path(config[\"directories\"][\"model_run\"])\n",
    "markdown_output_dir = Path(config[\"directories\"][\"markdown_output_dir\"])\n",
    "transit_input_dir = Path(config[\"directories\"][\"transit_input_dir\"])\n",
    "observed_BART = Path(config[\"transit\"][\"observed_BART\"])\n",
    "observed_BART_county = Path(config[\"transit\"][\"observed_BART_county\"])\n",
    "observed_BART_SL = Path(config[\"transit\"][\"observed_BART_SL\"])\n",
    "observed_MUNI_Line = Path(config[\"transit\"][\"observed_MUNI_Line\"])\n",
    "observed_SL = Path(config[\"transit\"][\"observed_SL\"])\n",
    "observed_NTD = Path(config[\"transit\"][\"observed_NTD\"])\n",
    "model_BART = Path(config[\"output\"][\"model_BART\"])\n",
    "model_BART_county = Path(config[\"output\"][\"model_BART_county\"])\n",
    "model_BART_SL = Path(config[\"output\"][\"model_BART_SL\"])\n",
    "model_MUNI_Line = Path(config[\"output\"][\"model_MUNI_Line\"]) \n",
    "model_SL = Path(config[\"output\"][\"model_SL\"])\n",
    "output_dir = model_run_dir / \"validation_workbook\" / \"output\"\n",
    "output_transit_dir = output_dir / \"transit\"\n",
    "transit_validation_2019_alfaro_filepath = config[\"transit\"][\n",
    "    \"transit_validation_2019_alfaro_filepath\"\n",
    "]\n",
    "transit_line_rename_filepath = (\n",
    "    Path(config[\"directories\"][\"resources\"]) / config[\"transit\"][\"line_rename_filename\"]\n",
    ")\n",
    "time_periods = [\"EA\", \"AM\", \"MD\", \"PM\", \"EV\"]\n",
    "tod_order = ['EA', 'AM', 'MD', 'PM', 'EV', 'Total']\n"
   ]
  },
  {
   "cell_type": "code",
   "execution_count": 13,
   "metadata": {},
   "outputs": [
    {
     "name": "stdout",
     "output_type": "stream",
     "text": [
      "Successfully read and added 'TOD' to: X:\\Projects\\CHAMP7\\Run25z_Market\\SFALLMSAEA.DBF\n",
      "Successfully read and added 'TOD' to: X:\\Projects\\CHAMP7\\Run25z_Market\\SFALLMSAAM.DBF\n",
      "Successfully read and added 'TOD' to: X:\\Projects\\CHAMP7\\Run25z_Market\\SFALLMSAMD.DBF\n",
      "Successfully read and added 'TOD' to: X:\\Projects\\CHAMP7\\Run25z_Market\\SFALLMSAPM.DBF\n",
      "Successfully read and added 'TOD' to: X:\\Projects\\CHAMP7\\Run25z_Market\\SFALLMSAEV.DBF\n"
     ]
    }
   ],
   "source": [
    "combined_gdf = read_transit_assignments(model_run_dir, time_periods)"
   ]
  },
  {
   "cell_type": "code",
   "execution_count": 5,
   "metadata": {},
   "outputs": [],
   "source": [
    "obs_MUNI_line = pd.read_excel(\n",
    "    transit_validation_2019_alfaro_filepath,\n",
    "    usecols=\"B:H\",\n",
    "    sheet_name=\"obs_MUNI_line\",\n",
    "    skiprows=list(range(9)),\n",
    ")"
   ]
  },
  {
   "cell_type": "code",
   "execution_count": null,
   "metadata": {},
   "outputs": [],
   "source": []
  },
  {
   "cell_type": "code",
   "execution_count": 11,
   "metadata": {},
   "outputs": [],
   "source": [
    "line = read_transit_lines(model_run_dir, transit_line_rename_filepath)"
   ]
  },
  {
   "cell_type": "code",
   "execution_count": 12,
   "metadata": {},
   "outputs": [
    {
     "data": {
      "text/html": [
       "<div>\n",
       "<style scoped>\n",
       "    .dataframe tbody tr th:only-of-type {\n",
       "        vertical-align: middle;\n",
       "    }\n",
       "\n",
       "    .dataframe tbody tr th {\n",
       "        vertical-align: top;\n",
       "    }\n",
       "\n",
       "    .dataframe thead th {\n",
       "        text-align: right;\n",
       "    }\n",
       "</style>\n",
       "<table border=\"1\" class=\"dataframe\">\n",
       "  <thead>\n",
       "    <tr style=\"text-align: right;\">\n",
       "      <th></th>\n",
       "      <th>Name</th>\n",
       "      <th>Line</th>\n",
       "    </tr>\n",
       "  </thead>\n",
       "  <tbody>\n",
       "    <tr>\n",
       "      <th>154</th>\n",
       "      <td>MUN108</td>\n",
       "      <td>108</td>\n",
       "    </tr>\n",
       "    <tr>\n",
       "      <th>155</th>\n",
       "      <td>MUN108AM</td>\n",
       "      <td>108</td>\n",
       "    </tr>\n",
       "    <tr>\n",
       "      <th>156</th>\n",
       "      <td>MUN25I</td>\n",
       "      <td>25</td>\n",
       "    </tr>\n",
       "    <tr>\n",
       "      <th>157</th>\n",
       "      <td>MUN25O</td>\n",
       "      <td>25</td>\n",
       "    </tr>\n",
       "    <tr>\n",
       "      <th>158</th>\n",
       "      <td>MUN108PM</td>\n",
       "      <td>108</td>\n",
       "    </tr>\n",
       "    <tr>\n",
       "      <th>...</th>\n",
       "      <td>...</td>\n",
       "      <td>...</td>\n",
       "    </tr>\n",
       "    <tr>\n",
       "      <th>469</th>\n",
       "      <td>MUNTISH2</td>\n",
       "      <td>TISH</td>\n",
       "    </tr>\n",
       "    <tr>\n",
       "      <th>470</th>\n",
       "      <td>MUNTISH3</td>\n",
       "      <td>TISH</td>\n",
       "    </tr>\n",
       "    <tr>\n",
       "      <th>471</th>\n",
       "      <td>MUNTO</td>\n",
       "      <td>T</td>\n",
       "    </tr>\n",
       "    <tr>\n",
       "      <th>472</th>\n",
       "      <td>MUNTSHTI</td>\n",
       "      <td>TSHT</td>\n",
       "    </tr>\n",
       "    <tr>\n",
       "      <th>473</th>\n",
       "      <td>MUNTSHTO</td>\n",
       "      <td>TSHT</td>\n",
       "    </tr>\n",
       "  </tbody>\n",
       "</table>\n",
       "<p>320 rows × 2 columns</p>\n",
       "</div>"
      ],
      "text/plain": [
       "         Name  Line\n",
       "154    MUN108   108\n",
       "155  MUN108AM   108\n",
       "156    MUN25I    25\n",
       "157    MUN25O    25\n",
       "158  MUN108PM   108\n",
       "..        ...   ...\n",
       "469  MUNTISH2  TISH\n",
       "470  MUNTISH3  TISH\n",
       "471     MUNTO     T\n",
       "472  MUNTSHTI  TSHT\n",
       "473  MUNTSHTO  TSHT\n",
       "\n",
       "[320 rows x 2 columns]"
      ]
     },
     "execution_count": 12,
     "metadata": {},
     "output_type": "execute_result"
    }
   ],
   "source": [
    "line"
   ]
  },
  {
   "cell_type": "code",
   "execution_count": 15,
   "metadata": {},
   "outputs": [],
   "source": [
    "muni = process_muni(combined_gdf, model_run_dir, transit_line_rename_filepath, transit_input_dir, observed_MUNI_Line, output_transit_dir, model_MUNI_Line)"
   ]
  },
  {
   "cell_type": "code",
   "execution_count": 16,
   "metadata": {},
   "outputs": [],
   "source": [
    "muni"
   ]
  }
 ],
 "metadata": {
  "kernelspec": {
   "display_name": "Python 3",
   "language": "python",
   "name": "python3"
  },
  "language_info": {
   "codemirror_mode": {
    "name": "ipython",
    "version": 3
   },
   "file_extension": ".py",
   "mimetype": "text/x-python",
   "name": "python",
   "nbconvert_exporter": "python",
   "pygments_lexer": "ipython3",
   "version": "3.9.18"
  }
 },
 "nbformat": 4,
 "nbformat_minor": 2
}
